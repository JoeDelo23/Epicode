{
 "cells": [
  {
   "cell_type": "code",
   "execution_count": 2,
   "id": "f4616f6a-2161-4501-b70f-4ab6b80d5e20",
   "metadata": {
    "tags": []
   },
   "outputs": [
    {
     "name": "stdout",
     "output_type": "stream",
     "text": [
      "25\n"
     ]
    }
   ],
   "source": [
    "studenti=25\n",
    "print(studenti)"
   ]
  },
  {
   "cell_type": "code",
   "execution_count": 5,
   "id": "a0f93604-8505-46fa-a31a-c216337d8e36",
   "metadata": {
    "tags": []
   },
   "outputs": [],
   "source": [
    "nuovi_studenti = 3"
   ]
  },
  {
   "cell_type": "code",
   "execution_count": null,
   "id": "c048c7fb-b5e4-44bb-b8a6-543140e7eaaa",
   "metadata": {},
   "outputs": [],
   "source": [
    "totale=studenti+nuovi_studenti\n"
   ]
  }
 ],
 "metadata": {
  "kernelspec": {
   "display_name": "Python 3 (ipykernel)",
   "language": "python",
   "name": "python3"
  },
  "language_info": {
   "codemirror_mode": {
    "name": "ipython",
    "version": 3
   },
   "file_extension": ".py",
   "mimetype": "text/x-python",
   "name": "python",
   "nbconvert_exporter": "python",
   "pygments_lexer": "ipython3",
   "version": "3.11.5"
  }
 },
 "nbformat": 4,
 "nbformat_minor": 5
}
